{
 "cells": [
  {
   "cell_type": "raw",
   "id": "55792d39",
   "metadata": {},
   "source": [
    "q1. [] is empty list"
   ]
  },
  {
   "cell_type": "raw",
   "id": "83812ca5",
   "metadata": {},
   "source": [
    "q2. spam = [2,4,6,8,10]\n",
    "    spam[2] = \"hello\""
   ]
  },
  {
   "cell_type": "code",
   "execution_count": 1,
   "id": "4f983536",
   "metadata": {},
   "outputs": [
    {
     "data": {
      "text/plain": [
       "'d'"
      ]
     },
     "execution_count": 1,
     "metadata": {},
     "output_type": "execute_result"
    }
   ],
   "source": [
    "# q3\n",
    "spam = ['a','b','c','d']\n",
    "spam[int(int('3'*2)/11)]"
   ]
  },
  {
   "cell_type": "code",
   "execution_count": 2,
   "id": "7652b012",
   "metadata": {},
   "outputs": [
    {
     "data": {
      "text/plain": [
       "'d'"
      ]
     },
     "execution_count": 2,
     "metadata": {},
     "output_type": "execute_result"
    }
   ],
   "source": [
    "# q4\n",
    "spam[-1]"
   ]
  },
  {
   "cell_type": "code",
   "execution_count": 3,
   "id": "9c3f576b",
   "metadata": {},
   "outputs": [
    {
     "data": {
      "text/plain": [
       "['a', 'b']"
      ]
     },
     "execution_count": 3,
     "metadata": {},
     "output_type": "execute_result"
    }
   ],
   "source": [
    "# q5\n",
    "spam[:2]"
   ]
  },
  {
   "cell_type": "code",
   "execution_count": 4,
   "id": "4ceae3b5",
   "metadata": {},
   "outputs": [
    {
     "data": {
      "text/plain": [
       "1"
      ]
     },
     "execution_count": 4,
     "metadata": {},
     "output_type": "execute_result"
    }
   ],
   "source": [
    "# q6\n",
    "bacon = [3.14, 'cat', 11, 'cat', True]\n",
    "bacon.index('cat')"
   ]
  },
  {
   "cell_type": "code",
   "execution_count": 5,
   "id": "40846695",
   "metadata": {},
   "outputs": [
    {
     "data": {
      "text/plain": [
       "[3.14, 'cat', 11, 'cat', True, 99]"
      ]
     },
     "execution_count": 5,
     "metadata": {},
     "output_type": "execute_result"
    }
   ],
   "source": [
    "# q7\n",
    "bacon.append(99)\n",
    "bacon"
   ]
  },
  {
   "cell_type": "code",
   "execution_count": 6,
   "id": "90d42c1b",
   "metadata": {},
   "outputs": [
    {
     "data": {
      "text/plain": [
       "[3.14, 11, 'cat', True, 99]"
      ]
     },
     "execution_count": 6,
     "metadata": {},
     "output_type": "execute_result"
    }
   ],
   "source": [
    "# q8\n",
    "bacon.remove('cat')\n",
    "bacon"
   ]
  },
  {
   "cell_type": "raw",
   "id": "84a27a8b",
   "metadata": {},
   "source": [
    "q9.\n",
    "\n",
    "list concatenation : This is used to add two or more list. This could be inplace or a new list\n",
    "list replication   : This is used to get a list which contains multiple repetition of a single list as required.\n",
    "eg:"
   ]
  },
  {
   "cell_type": "code",
   "execution_count": 7,
   "id": "0de7a58f",
   "metadata": {},
   "outputs": [
    {
     "name": "stdout",
     "output_type": "stream",
     "text": [
      "[1, 2, 3, 4, 5, 6]\n",
      "[1, 2, 3, 1, 2, 3, 1, 2, 3]\n"
     ]
    }
   ],
   "source": [
    "l1 = [1,2,3]\n",
    "l2 = [4,5,6]\n",
    "print(l1 + l2)\n",
    "print(l1*3)"
   ]
  },
  {
   "cell_type": "raw",
   "id": "68e78e60",
   "metadata": {},
   "source": [
    "q10.\n",
    "\n",
    "append() - is used to add the element to last of the list\n",
    "insert() - is used to add the element to the list in the required index"
   ]
  },
  {
   "cell_type": "raw",
   "id": "509e79ea",
   "metadata": {},
   "source": [
    "q11.\n",
    "\n",
    "The two methods of removing elements in the list are remove() and pop()"
   ]
  },
  {
   "cell_type": "raw",
   "id": "aed132f5",
   "metadata": {},
   "source": [
    "q12.\n",
    "\n",
    "The list values and string values are indentical in a way because they both have index"
   ]
  },
  {
   "cell_type": "raw",
   "id": "97e95b81",
   "metadata": {},
   "source": [
    "q13.\n",
    "\n",
    "tuples and list lookalike list but tuples is immutable and list is mutable"
   ]
  },
  {
   "cell_type": "code",
   "execution_count": 8,
   "id": "889a8171",
   "metadata": {},
   "outputs": [
    {
     "name": "stdout",
     "output_type": "stream",
     "text": [
      "(42,)\n"
     ]
    },
    {
     "data": {
      "text/plain": [
       "tuple"
      ]
     },
     "execution_count": 8,
     "metadata": {},
     "output_type": "execute_result"
    }
   ],
   "source": [
    "# 14\n",
    "a = 42,\n",
    "print(a)\n",
    "type(a)"
   ]
  },
  {
   "cell_type": "code",
   "execution_count": 9,
   "id": "84a16c2f",
   "metadata": {},
   "outputs": [
    {
     "name": "stdout",
     "output_type": "stream",
     "text": [
      "(1, 2, 3)\n",
      "[4, 5, 6]\n"
     ]
    }
   ],
   "source": [
    "# q15\n",
    "# list value's tuple form\n",
    "l1 = [1,2,3]\n",
    "print(tuple(l1))\n",
    "# tuple value's list form\n",
    "t1 = (4,5,6)\n",
    "print(list(t1))"
   ]
  },
  {
   "cell_type": "raw",
   "id": "c853af09",
   "metadata": {},
   "source": [
    "q16\n",
    "\n",
    "variable that contains list values don't contain list values instead they conatain references to list values"
   ]
  },
  {
   "cell_type": "raw",
   "id": "519275a6",
   "metadata": {},
   "source": [
    "q17\n",
    "\n",
    "copy.copy() create a refernence to original object\n",
    "copy.deepcopy() create a new copy "
   ]
  }
 ],
 "metadata": {
  "kernelspec": {
   "display_name": "Python 3 (ipykernel)",
   "language": "python",
   "name": "python3"
  },
  "language_info": {
   "codemirror_mode": {
    "name": "ipython",
    "version": 3
   },
   "file_extension": ".py",
   "mimetype": "text/x-python",
   "name": "python",
   "nbconvert_exporter": "python",
   "pygments_lexer": "ipython3",
   "version": "3.9.12"
  }
 },
 "nbformat": 4,
 "nbformat_minor": 5
}
