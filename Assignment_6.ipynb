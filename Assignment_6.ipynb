{
 "cells": [
  {
   "cell_type": "code",
   "execution_count": 1,
   "id": "7303eb9a",
   "metadata": {},
   "outputs": [
    {
     "name": "stdout",
     "output_type": "stream",
     "text": [
      "Hello\n",
      "\n",
      "\n",
      "\n",
      "\n",
      "world\n"
     ]
    }
   ],
   "source": [
    "# q1\n",
    "\n",
    "# Escape character is the backslash \\ followed by the character you want to insert\n",
    "\n",
    "# we can use them by placing a backslash first followed by character\n",
    "\n",
    "print(\"Hello\\n\\n\\n\\n\")\n",
    "print(\"world\")"
   ]
  },
  {
   "cell_type": "code",
   "execution_count": 2,
   "id": "baea49e4",
   "metadata": {},
   "outputs": [],
   "source": [
    "# q2\n",
    "\n",
    "# The escape character n stands for new line and t stands for space of distance by tab key"
   ]
  },
  {
   "cell_type": "code",
   "execution_count": 3,
   "id": "800b1022",
   "metadata": {},
   "outputs": [],
   "source": [
    "# q3\n",
    "\n",
    "# To include a backslash character in a string first use backslash \\ followed by character"
   ]
  },
  {
   "cell_type": "code",
   "execution_count": 4,
   "id": "d73b45ea",
   "metadata": {},
   "outputs": [],
   "source": [
    "# q4\n",
    "\n",
    "# \"Howl's Moving Castle\" won't create a problem because we were using double qoutes to wrap the string and we were using single quotes in the middle of the string so that the complier won't get confused for the end of the string"
   ]
  },
  {
   "cell_type": "code",
   "execution_count": 5,
   "id": "08e63bad",
   "metadata": {},
   "outputs": [
    {
     "name": "stdout",
     "output_type": "stream",
     "text": [
      "hello\n",
      "\n",
      "wolrd\n"
     ]
    }
   ],
   "source": [
    "# q5\n",
    "\n",
    "# If we don't want to use the \\n to print new line then we can use just print to do that\n",
    "\n",
    "# eg\n",
    "\n",
    "print(\"hello\")\n",
    "print()\n",
    "print(\"wolrd\")"
   ]
  },
  {
   "cell_type": "code",
   "execution_count": 6,
   "id": "4b0adda5",
   "metadata": {},
   "outputs": [
    {
     "name": "stdout",
     "output_type": "stream",
     "text": [
      "e\n",
      "Hello\n",
      "Hello\n",
      "lo World!\n"
     ]
    }
   ],
   "source": [
    "# q6\n",
    "\n",
    "print('Hello World!'[1])\n",
    "print('Hello World!'[0:5])\n",
    "print('Hello World!'[:5])\n",
    "print('Hello World!'[3:])"
   ]
  },
  {
   "cell_type": "code",
   "execution_count": 7,
   "id": "ac0d2307",
   "metadata": {},
   "outputs": [
    {
     "name": "stdout",
     "output_type": "stream",
     "text": [
      "HELLO\n",
      "True\n",
      "False\n"
     ]
    }
   ],
   "source": [
    "# q7\n",
    "\n",
    "print('Hello'.upper())\n",
    "print('Hello'.upper().isupper())\n",
    "print('Hello'.upper().islower())"
   ]
  },
  {
   "cell_type": "code",
   "execution_count": 8,
   "id": "0f9d3fc5",
   "metadata": {},
   "outputs": [
    {
     "name": "stdout",
     "output_type": "stream",
     "text": [
      "['Remember,', 'remember,', 'the', 'fifth', 'of', 'July.']\n",
      "T-h-e-r-e- -c-a-n- -b-e- -o-n-l-y- -o-n-e-.\n"
     ]
    }
   ],
   "source": [
    "# q8\n",
    "\n",
    "print('Remember, remember, the fifth of July.'.split())\n",
    "print('-'.join('There can be only one.'))"
   ]
  },
  {
   "cell_type": "code",
   "execution_count": 9,
   "id": "9dd13fdd",
   "metadata": {},
   "outputs": [
    {
     "name": "stdout",
     "output_type": "stream",
     "text": [
      "Hello World---------\n",
      "#########Hello World\n",
      "++++Hello World+++++\n"
     ]
    }
   ],
   "source": [
    "# q9\n",
    "\n",
    "a = \"Hello World\"\n",
    "print(a.ljust(20, \"-\"))\n",
    "print(a.rjust(20, \"#\"))\n",
    "print(a.center(20, \"+\"))"
   ]
  },
  {
   "cell_type": "code",
   "execution_count": 10,
   "id": "6684ff39",
   "metadata": {},
   "outputs": [
    {
     "name": "stdout",
     "output_type": "stream",
     "text": [
      "   Hello world   \n",
      "Hello world\n"
     ]
    }
   ],
   "source": [
    "# q10\n",
    "\n",
    "# To remove white space we should use strip()\n",
    "\n",
    "# eg:\n",
    "\n",
    "a = \"   Hello world   \"\n",
    "print(a)\n",
    "print(a.strip())"
   ]
  },
  {
   "cell_type": "code",
   "execution_count": null,
   "id": "01983455",
   "metadata": {},
   "outputs": [],
   "source": []
  }
 ],
 "metadata": {
  "kernelspec": {
   "display_name": "Python 3 (ipykernel)",
   "language": "python",
   "name": "python3"
  },
  "language_info": {
   "codemirror_mode": {
    "name": "ipython",
    "version": 3
   },
   "file_extension": ".py",
   "mimetype": "text/x-python",
   "name": "python",
   "nbconvert_exporter": "python",
   "pygments_lexer": "ipython3",
   "version": "3.9.12"
  }
 },
 "nbformat": 4,
 "nbformat_minor": 5
}
