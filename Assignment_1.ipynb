{
 "cells": [
  {
   "cell_type": "markdown",
   "id": "1e9e3333",
   "metadata": {},
   "source": [
    "Q1. \n",
    "\n",
    "All the option under the question are values and expression.\n",
    "The values are 'hello', -87.8.\n",
    "The expressions are *, -, /, +."
   ]
  },
  {
   "cell_type": "markdown",
   "id": "722b0432",
   "metadata": {},
   "source": [
    "Q2.\n",
    "\n",
    "String is a datatype and it's the data to be stored in a variable.\n",
    "Variable is the container or label that holds or points to or stores the datatype like integer, float, string or any other object."
   ]
  },
  {
   "cell_type": "markdown",
   "id": "9f80e0f9",
   "metadata": {},
   "source": [
    "Q3.\n",
    "\n",
    "The three different datatypes are\n",
    "            1.integer\n",
    "            2.float\n",
    "            3.string"
   ]
  },
  {
   "cell_type": "markdown",
   "id": "83e2b319",
   "metadata": {},
   "source": [
    "Q4.\n",
    "\n",
    "The expression is made up of mathematical operators and operands to produce the output which is the value.\n",
    "All the expression will evaluate to some value."
   ]
  },
  {
   "cell_type": "markdown",
   "id": "451719ad",
   "metadata": {},
   "source": [
    "Q5.\n",
    "\n",
    "Every line of code in the program is the statement.\n",
    "The expression is made up of mathematical operators and operands to produce the output which is the value.\n",
    "All the expression will evaluate to some value.\n",
    "All expression can be statement but not all the statement will be expression."
   ]
  },
  {
   "cell_type": "markdown",
   "id": "d933b0c2",
   "metadata": {},
   "source": [
    "Q6.\n",
    "\n",
    "bacon = 22\n",
    "bacon + 1\n",
    "\n",
    "after the above code the value of the bacon is going to be 22."
   ]
  },
  {
   "cell_type": "code",
   "execution_count": 1,
   "id": "f9e6c1af",
   "metadata": {},
   "outputs": [
    {
     "data": {
      "text/plain": [
       "22"
      ]
     },
     "execution_count": 1,
     "metadata": {},
     "output_type": "execute_result"
    }
   ],
   "source": [
    "bacon = 22\n",
    "bacon + 1\n",
    "bacon"
   ]
  },
  {
   "cell_type": "markdown",
   "id": "3904e7a3",
   "metadata": {},
   "source": [
    "Q7.\n",
    "\n",
    "'spam' + 'spamspam'\n",
    "'spam'*3\n",
    "\n",
    "the above two statement is going to give the same result"
   ]
  },
  {
   "cell_type": "code",
   "execution_count": 2,
   "id": "9733e570",
   "metadata": {},
   "outputs": [
    {
     "name": "stdout",
     "output_type": "stream",
     "text": [
      "spamspamspam\n",
      "spamspamspam\n"
     ]
    }
   ],
   "source": [
    "string_1 = 'spam' + 'spamspam'\n",
    "string_2 = 'spam' * 3\n",
    "print(string_2)\n",
    "print(string_2)"
   ]
  },
  {
   "cell_type": "markdown",
   "id": "68396a59",
   "metadata": {},
   "source": [
    "Q8.\n",
    "\n",
    "the eggs is a valid variable name while 100 is invalid because a valid variable name start with letter or underscore and it cannot start with a number, but a variable name can include number like eggs100, but not like 100 or 100eggs."
   ]
  },
  {
   "cell_type": "markdown",
   "id": "48e09220",
   "metadata": {},
   "source": [
    "Q9.\n",
    "\n",
    "The three functions can be used to get the integer, floating-point number, or string version of a value are\n",
    "                1.int() - used to convert string with digits or float to integer\n",
    "                2.float() - used to convert string with digits or int to float\n",
    "                3.str() - used to convert integer or float number to string."
   ]
  },
  {
   "cell_type": "markdown",
   "id": "6e79c766",
   "metadata": {},
   "source": [
    "Q10.\n",
    "\n",
    "'I have eaten' + 99 + 'burritos.'\n",
    "\n",
    "The above expression is wrong because 'I have eaten' and 'burritos' is string and 99 is integer and string concatination will work only if the types are same and python is strongly typed language."
   ]
  },
  {
   "cell_type": "code",
   "execution_count": 6,
   "id": "8435f11d",
   "metadata": {},
   "outputs": [
    {
     "data": {
      "text/plain": [
       "'I have eaten 99 burritos.'"
      ]
     },
     "execution_count": 6,
     "metadata": {},
     "output_type": "execute_result"
    }
   ],
   "source": [
    "# so the correct expression would be like the following code\n",
    "'I have eaten ' + str(99) + ' burritos.'\n",
    "# or \n",
    "'I have eaten ' + '99' + ' burritos.'"
   ]
  }
 ],
 "metadata": {
  "kernelspec": {
   "display_name": "Python 3 (ipykernel)",
   "language": "python",
   "name": "python3"
  },
  "language_info": {
   "codemirror_mode": {
    "name": "ipython",
    "version": 3
   },
   "file_extension": ".py",
   "mimetype": "text/x-python",
   "name": "python",
   "nbconvert_exporter": "python",
   "pygments_lexer": "ipython3",
   "version": "3.9.7"
  }
 },
 "nbformat": 4,
 "nbformat_minor": 5
}
