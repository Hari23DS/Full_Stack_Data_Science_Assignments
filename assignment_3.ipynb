{
 "cells": [
  {
   "cell_type": "markdown",
   "id": "6970f08c",
   "metadata": {},
   "source": [
    "Q1.\n",
    "\n",
    "The functions are advantageous to have in the program because it increases the reusability of the code."
   ]
  },
  {
   "cell_type": "markdown",
   "id": "22de4d29",
   "metadata": {},
   "source": [
    "Q2.\n",
    "\n",
    "The code in the function run when it is called."
   ]
  },
  {
   "cell_type": "markdown",
   "id": "54d3107e",
   "metadata": {},
   "source": [
    "Q3.\n",
    "\n",
    "The statement which creates function is the keyword 'def' followed by the function name."
   ]
  },
  {
   "cell_type": "markdown",
   "id": "e173bcbd",
   "metadata": {},
   "source": [
    "Q4.\n",
    "\n",
    "The function is having a set of instructions to execute when it is called and function call is calling the specific function to use the set of instructions assigned to it."
   ]
  },
  {
   "cell_type": "markdown",
   "id": "26e9846e",
   "metadata": {},
   "source": [
    "Q5.\n",
    "\n",
    "There is one global scope and any number of local scope per program."
   ]
  },
  {
   "cell_type": "markdown",
   "id": "5c092624",
   "metadata": {},
   "source": [
    "Q6.\n",
    "\n",
    "When the function call returns the variable in the local scope gets destroyed in other words it won't be available to access."
   ]
  },
  {
   "cell_type": "markdown",
   "id": "2f6c7475",
   "metadata": {},
   "source": [
    "Q7.\n",
    "\n",
    "Return value is some value which can be returned to the function call after the execution of the function. Yes, it is possible to have return value in an expression."
   ]
  },
  {
   "cell_type": "markdown",
   "id": "32a304a4",
   "metadata": {},
   "source": [
    "Q8.\n",
    "\n",
    "If the function doesnot have return statement then the return value that is returned is none."
   ]
  },
  {
   "cell_type": "markdown",
   "id": "1a078e20",
   "metadata": {},
   "source": [
    "Q9.\n",
    "\n",
    "Function variable can refer to global variable if we use global keyword before the variable name (which is already a global variable) in the funcion."
   ]
  },
  {
   "cell_type": "markdown",
   "id": "dfda8d26",
   "metadata": {},
   "source": [
    "Q10.\n",
    "\n",
    "Datatype of None is NoneType."
   ]
  },
  {
   "cell_type": "markdown",
   "id": "fe68442b",
   "metadata": {},
   "source": [
    "Q11.\n",
    "\n",
    "It will import the library areallyourpetsnamederic."
   ]
  },
  {
   "cell_type": "markdown",
   "id": "0baffbbf",
   "metadata": {},
   "source": [
    "Q12.\n",
    "\n",
    "if bacon() is available in the spam module after importing spam module we can call like spam.bacon()."
   ]
  },
  {
   "cell_type": "markdown",
   "id": "9d0731e2",
   "metadata": {},
   "source": [
    "Q13.\n",
    "\n",
    "To save the program from crashing if it encounters error we can use try and except concept so that the program won't crash."
   ]
  },
  {
   "cell_type": "markdown",
   "id": "8b7876b8",
   "metadata": {},
   "source": [
    "Q14.\n",
    "\n",
    "The purpose of the try clause is to contain the code that might encounter error and if there is error the control will be passed to the except clause and rest of the try clause will not be executed, the except clause contains the code to be executed if there is any error discovered in the try clause and there can be many except clause of different exceptions and there could be finally one super class which is the Exception class which will be executed if the error discovered is not in the above mentioned except clause."
   ]
  }
 ],
 "metadata": {
  "kernelspec": {
   "display_name": "Python 3 (ipykernel)",
   "language": "python",
   "name": "python3"
  },
  "language_info": {
   "codemirror_mode": {
    "name": "ipython",
    "version": 3
   },
   "file_extension": ".py",
   "mimetype": "text/x-python",
   "name": "python",
   "nbconvert_exporter": "python",
   "pygments_lexer": "ipython3",
   "version": "3.9.12"
  }
 },
 "nbformat": 4,
 "nbformat_minor": 5
}
