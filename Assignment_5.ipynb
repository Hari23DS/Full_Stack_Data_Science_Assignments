{
 "cells": [
  {
   "cell_type": "code",
   "execution_count": 1,
   "id": "e3111845",
   "metadata": {},
   "outputs": [],
   "source": [
    "# q1\n",
    "a = {}\n",
    "b = dict()"
   ]
  },
  {
   "cell_type": "code",
   "execution_count": 2,
   "id": "8c4756ad",
   "metadata": {},
   "outputs": [
    {
     "data": {
      "text/plain": [
       "42"
      ]
     },
     "execution_count": 2,
     "metadata": {},
     "output_type": "execute_result"
    }
   ],
   "source": [
    "# q2\n",
    "\n",
    "a = {\"foo\" : 42}\n",
    "a[\"foo\"]"
   ]
  },
  {
   "cell_type": "code",
   "execution_count": 3,
   "id": "90c6e7ad",
   "metadata": {},
   "outputs": [],
   "source": [
    "# q3\n",
    "\n",
    "# The dictionary refers its elements using key\n",
    "# The list refers its elements using index"
   ]
  },
  {
   "cell_type": "code",
   "execution_count": 4,
   "id": "97b48d8a",
   "metadata": {},
   "outputs": [],
   "source": [
    "# q4\n",
    "\n",
    "spam = {'bar': 100}\n",
    "# spam['foo'] will raise key error"
   ]
  },
  {
   "cell_type": "code",
   "execution_count": 5,
   "id": "5a11377b",
   "metadata": {},
   "outputs": [],
   "source": [
    "# q5\n",
    "\n",
    "# The expression 'cat' in spam checks if cat key is present in spam or not if present return true else return false\n",
    "\n",
    "# The cat in spam.keys() check if cat is present in spam or not if present return true else return false\n",
    "\n",
    "# Therefore both does the same work"
   ]
  },
  {
   "cell_type": "code",
   "execution_count": 6,
   "id": "f0076bc7",
   "metadata": {},
   "outputs": [],
   "source": [
    "#  q6\n",
    "\n",
    "# The expression 'cat' in spam checks if cat key is present in spam or not if present return true else return false\n",
    "\n",
    "# The cat in spam.values() check if cat is present in values or not if present return true else return false"
   ]
  },
  {
   "cell_type": "code",
   "execution_count": 7,
   "id": "2eea2fc2",
   "metadata": {},
   "outputs": [],
   "source": [
    "# q7\n",
    "\n",
    "spam['color'] = 'black'"
   ]
  },
  {
   "cell_type": "code",
   "execution_count": 8,
   "id": "acb11f6e",
   "metadata": {},
   "outputs": [],
   "source": [
    "# q8\n",
    "\n",
    "# To use pretty print dictionary values pprint module should be used and PrettyPrinter class should be used and pprint() method should be used"
   ]
  },
  {
   "cell_type": "code",
   "execution_count": null,
   "id": "b7528bbc",
   "metadata": {},
   "outputs": [],
   "source": []
  }
 ],
 "metadata": {
  "kernelspec": {
   "display_name": "Python 3 (ipykernel)",
   "language": "python",
   "name": "python3"
  },
  "language_info": {
   "codemirror_mode": {
    "name": "ipython",
    "version": 3
   },
   "file_extension": ".py",
   "mimetype": "text/x-python",
   "name": "python",
   "nbconvert_exporter": "python",
   "pygments_lexer": "ipython3",
   "version": "3.9.12"
  }
 },
 "nbformat": 4,
 "nbformat_minor": 5
}
