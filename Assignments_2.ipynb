{
 "cells": [
  {
   "cell_type": "markdown",
   "id": "5328ecdf",
   "metadata": {},
   "source": [
    "Q1. \n",
    "\n",
    "The two values of boolean data type are True and False.\n",
    "we write them as the following code"
   ]
  },
  {
   "cell_type": "code",
   "execution_count": 1,
   "id": "83d296e7",
   "metadata": {},
   "outputs": [
    {
     "name": "stdout",
     "output_type": "stream",
     "text": [
      "True\n",
      "False\n"
     ]
    }
   ],
   "source": [
    "boolean_true = True\n",
    "boolean_false = False\n",
    "print(boolean_true)\n",
    "print(boolean_false)"
   ]
  },
  {
   "cell_type": "markdown",
   "id": "4e705975",
   "metadata": {},
   "source": [
    "Q2.\n",
    "\n",
    "The three types of boolean operators are and, or and not."
   ]
  },
  {
   "cell_type": "markdown",
   "id": "d05237e9",
   "metadata": {},
   "source": [
    "Q3.\n",
    "\n",
    "The boolean operators truth table list are as follows:\n",
    "\n",
    "1. and operator\n",
    "True + True = True\n",
    "True + False = False\n",
    "False + True = False\n",
    "False + False = False\n",
    "\n",
    "\n",
    "\n",
    "2. or operator\n",
    "True + True = True\n",
    "True + False = True\n",
    "False + True = True\n",
    "False + False = False\n",
    "\n",
    "\n",
    "3. not operator\n",
    "True = False\n",
    "False = True"
   ]
  },
  {
   "cell_type": "markdown",
   "id": "77e4a861",
   "metadata": {},
   "source": [
    "Q4.\n",
    "\n",
    "(5 > 4) and (3 == 5)                    =>  False\n",
    "\n",
    "not (5 > 4)                             =>  False\n",
    "\n",
    "(5 > 4) or (3 == 5)                     =>  True\n",
    "\n",
    "not ((5 > 4) or (3 == 5))               =>  False\n",
    "\n",
    "(True and True) and (True == False)     =>  False\n",
    "\n",
    "(not False) or (not True)               =>  True"
   ]
  },
  {
   "cell_type": "markdown",
   "id": "23473d44",
   "metadata": {},
   "source": [
    "Q5.\n",
    "\n",
    "The six comparison operators are equal(==), not equal(!=), greater than(>), less than(<), greater than or equal to(>=), less than okr equal to(<=)."
   ]
  },
  {
   "cell_type": "markdown",
   "id": "e521b0da",
   "metadata": {},
   "source": [
    "Q6.\n",
    "\n",
    "The assignment operator(=) is used to assign a object to a variable.\n",
    "for eg: a = 10\n",
    "The equal to operator(==) is used to find if both the operands are equal.\n",
    "for eg: 10 == 20"
   ]
  },
  {
   "cell_type": "markdown",
   "id": "1c2f9f26",
   "metadata": {},
   "source": [
    "Q7.\n",
    "\n",
    "Identification of blocks in the following code:"
   ]
  },
  {
   "cell_type": "code",
   "execution_count": 2,
   "id": "32fbe164",
   "metadata": {},
   "outputs": [
    {
     "name": "stdout",
     "output_type": "stream",
     "text": [
      "ham\n",
      "spam\n",
      "spam\n"
     ]
    }
   ],
   "source": [
    "spam = 0\n",
    "if spam == 10:\n",
    "    print('eggs')\n",
    "if spam > 5:\n",
    "    print('bacon')\n",
    "else:\n",
    "    print('ham')\n",
    "print('spam')\n",
    "print('spam')"
   ]
  },
  {
   "cell_type": "code",
   "execution_count": 3,
   "id": "fe92fab7",
   "metadata": {},
   "outputs": [
    {
     "name": "stdout",
     "output_type": "stream",
     "text": [
      "3\n",
      "Greetings!\n"
     ]
    }
   ],
   "source": [
    "# Q8.\n",
    "\n",
    "spam = int(input())\n",
    "if spam == 1:\n",
    "    print(\"Hello\")\n",
    "elif spam == 2:\n",
    "    print(\"Howdy\")\n",
    "else:\n",
    "    print(\"Greetings!\")"
   ]
  },
  {
   "cell_type": "markdown",
   "id": "c55ed1c9",
   "metadata": {},
   "source": [
    "Q9.\n",
    "\n",
    "If the program is stuck in the endless loop then we have to press the key which is square in shape and which is called as interept the kernal and which will stop the endless loop."
   ]
  },
  {
   "cell_type": "markdown",
   "id": "c32d9d00",
   "metadata": {},
   "source": [
    "Q10.\n",
    "\n",
    "The break is used to end the first inner loop if the break is encountered in the program.\n",
    "The continue is used to skip the remaining part of the loop for that particular iteration if the continue has been encountered in the program and the it will continue to the next iteration if there's one and the program will run untill the loop gets finished or untill the condition fails."
   ]
  },
  {
   "cell_type": "markdown",
   "id": "48391e11",
   "metadata": {},
   "source": [
    "Q11.\n",
    "\n",
    "There is no difference with respect to the output produced by all the range(10), range(0, 10), and range(0, 10, 1). The first one range(10) mentioned only the end point of the loop, the second one which is range(0,10) mentioned the start point and the end point and the third one range(0,10,1) mentioned the start point, end point and the step size."
   ]
  },
  {
   "cell_type": "code",
   "execution_count": 9,
   "id": "a8737d28",
   "metadata": {},
   "outputs": [
    {
     "name": "stdout",
     "output_type": "stream",
     "text": [
      "1\n",
      "2\n",
      "3\n",
      "4\n",
      "5\n",
      "6\n",
      "7\n",
      "8\n",
      "9\n",
      "10\n"
     ]
    }
   ],
   "source": [
    "# Q12.\n",
    "\n",
    "# For loop to print numbers from 1 to 10\n",
    "\n",
    "for i in range(1,11):\n",
    "    print(i)"
   ]
  },
  {
   "cell_type": "code",
   "execution_count": 11,
   "id": "f5d46050",
   "metadata": {},
   "outputs": [
    {
     "name": "stdout",
     "output_type": "stream",
     "text": [
      "1\n",
      "2\n",
      "3\n",
      "4\n",
      "5\n",
      "6\n",
      "7\n",
      "8\n",
      "9\n",
      "10\n"
     ]
    }
   ],
   "source": [
    "# while loop to print mumbers from 1 to 10\n",
    "\n",
    "i = 1\n",
    "\n",
    "while(i<11):\n",
    "    print(i)\n",
    "    i = i + 1"
   ]
  },
  {
   "cell_type": "markdown",
   "id": "60e2a152",
   "metadata": {},
   "source": [
    "Q13.\n",
    "\n",
    "If I had a function named bacon() inside a module named spam, and if I need to call that function after importing in my file then i would call like the following:\n",
    "\n",
    "/*\n",
    "import spam as sm\n",
    "\n",
    "sm.bacon()\n",
    "*/\n",
    "\n",
    "and if i need to save the result of the function to the variable then the folloeing would be the code\n",
    "\n",
    "\n",
    "/*\n",
    "import spam as sm\n",
    "\n",
    "result = sm.bacon()\n",
    "\n",
    "*/\n"
   ]
  }
 ],
 "metadata": {
  "kernelspec": {
   "display_name": "Python 3 (ipykernel)",
   "language": "python",
   "name": "python3"
  },
  "language_info": {
   "codemirror_mode": {
    "name": "ipython",
    "version": 3
   },
   "file_extension": ".py",
   "mimetype": "text/x-python",
   "name": "python",
   "nbconvert_exporter": "python",
   "pygments_lexer": "ipython3",
   "version": "3.9.7"
  }
 },
 "nbformat": 4,
 "nbformat_minor": 5
}
